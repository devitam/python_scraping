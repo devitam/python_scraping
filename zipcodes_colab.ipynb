{
  "nbformat": 4,
  "nbformat_minor": 0,
  "metadata": {
    "colab": {
      "name": "zipcodes_colab.ipynb",
      "provenance": [],
      "authorship_tag": "ABX9TyO/UkLrbsvqCat7aCckGhze",
      "include_colab_link": true
    },
    "kernelspec": {
      "name": "python3",
      "display_name": "Python 3"
    },
    "language_info": {
      "name": "python"
    }
  },
  "cells": [
    {
      "cell_type": "markdown",
      "metadata": {
        "id": "view-in-github",
        "colab_type": "text"
      },
      "source": [
        "<a href=\"https://colab.research.google.com/github/devitam/python_scraping/blob/main/zipcodes_colab.ipynb\" target=\"_parent\"><img src=\"https://colab.research.google.com/assets/colab-badge.svg\" alt=\"Open In Colab\"/></a>"
      ]
    },
    {
      "cell_type": "code",
      "metadata": {
        "id": "psdCWxkJt4pe"
      },
      "source": [
        "import requests\n",
        "from bs4 import BeautifulSoup\n",
        "import pandas as pd"
      ],
      "execution_count": null,
      "outputs": []
    },
    {
      "cell_type": "code",
      "metadata": {
        "id": "EE1kn2SQvmRS"
      },
      "source": [
        "url = 'https://www.zipcodestogo.com/Maryland/'\n",
        "requests.get(url)\n",
        "page = requests.get(url, headers = {\"User-Agent\": \"XY\"})"
      ],
      "execution_count": null,
      "outputs": []
    },
    {
      "cell_type": "code",
      "metadata": {
        "id": "mYJK5rrCwq7t"
      },
      "source": [
        "soup = BeautifulSoup(page.text, \"lxml\")\n",
        "table_data = soup.find(\"table\", class_ = \"inner_table\")"
      ],
      "execution_count": null,
      "outputs": []
    },
    {
      "cell_type": "code",
      "metadata": {
        "colab": {
          "base_uri": "https://localhost:8080/",
          "height": 35
        },
        "id": "4dYpF_xrz4y1",
        "outputId": "3ea85658-352c-4d01-cb50-dba65a3618d7"
      },
      "source": [
        "first_row = soup.find(\"tr\", {\"style\" : \"background-color: #F5F5F5;\"})\n",
        "title = first_row.text\n",
        "title"
      ],
      "execution_count": null,
      "outputs": [
        {
          "output_type": "execute_result",
          "data": {
            "application/vnd.google.colaboratory.intrinsic+json": {
              "type": "string"
            },
            "text/plain": [
              "'\\nZip Code\\nCity\\nCounty\\nZip Code Map\\n'"
            ]
          },
          "metadata": {
            "tags": []
          },
          "execution_count": 4
        }
      ]
    },
    {
      "cell_type": "code",
      "metadata": {
        "id": "PEscz22p67CK"
      },
      "source": [
        "zip_code = title[1:9]\n",
        "city = title[10:14]\n",
        "county = title[15:21]\n",
        "zip_code_map = title[22:len(title)-1]\n",
        "\n",
        "headers = [zip_code, city, county, zip_code_map]\n",
        "\n",
        "df = pd.DataFrame(columns = headers)"
      ],
      "execution_count": null,
      "outputs": []
    },
    {
      "cell_type": "code",
      "metadata": {
        "id": "8s1NpPKf1Qx1"
      },
      "source": [
        "for j in table_data.find_all('tr')[2:]:\n",
        "        row_data = j.find_all('td')\n",
        "        row = [tr.text for tr in row_data]\n",
        "        df.loc[len(df)] = row"
      ],
      "execution_count": null,
      "outputs": []
    },
    {
      "cell_type": "code",
      "metadata": {
        "colab": {
          "base_uri": "https://localhost:8080/",
          "height": 419
        },
        "id": "CuBMTQag6_nl",
        "outputId": "7ec6f158-aec9-42fc-b006-096c3b124807"
      },
      "source": [
        "df"
      ],
      "execution_count": null,
      "outputs": [
        {
          "output_type": "execute_result",
          "data": {
            "text/html": [
              "<div>\n",
              "<style scoped>\n",
              "    .dataframe tbody tr th:only-of-type {\n",
              "        vertical-align: middle;\n",
              "    }\n",
              "\n",
              "    .dataframe tbody tr th {\n",
              "        vertical-align: top;\n",
              "    }\n",
              "\n",
              "    .dataframe thead th {\n",
              "        text-align: right;\n",
              "    }\n",
              "</style>\n",
              "<table border=\"1\" class=\"dataframe\">\n",
              "  <thead>\n",
              "    <tr style=\"text-align: right;\">\n",
              "      <th></th>\n",
              "      <th>Zip Code</th>\n",
              "      <th>City</th>\n",
              "      <th>County</th>\n",
              "      <th>Zip Code Map</th>\n",
              "    </tr>\n",
              "  </thead>\n",
              "  <tbody>\n",
              "    <tr>\n",
              "      <th>0</th>\n",
              "      <td>20601</td>\n",
              "      <td>Waldorf</td>\n",
              "      <td>Charles</td>\n",
              "      <td>View Map</td>\n",
              "    </tr>\n",
              "    <tr>\n",
              "      <th>1</th>\n",
              "      <td>20602</td>\n",
              "      <td>Waldorf</td>\n",
              "      <td>Charles</td>\n",
              "      <td>View Map</td>\n",
              "    </tr>\n",
              "    <tr>\n",
              "      <th>2</th>\n",
              "      <td>20603</td>\n",
              "      <td>Waldorf</td>\n",
              "      <td>Charles</td>\n",
              "      <td>View Map</td>\n",
              "    </tr>\n",
              "    <tr>\n",
              "      <th>3</th>\n",
              "      <td>20604</td>\n",
              "      <td>Waldorf</td>\n",
              "      <td>Charles</td>\n",
              "      <td>View Map</td>\n",
              "    </tr>\n",
              "    <tr>\n",
              "      <th>4</th>\n",
              "      <td>20606</td>\n",
              "      <td>Abell</td>\n",
              "      <td>Saint Marys</td>\n",
              "      <td>View Map</td>\n",
              "    </tr>\n",
              "    <tr>\n",
              "      <th>...</th>\n",
              "      <td>...</td>\n",
              "      <td>...</td>\n",
              "      <td>...</td>\n",
              "      <td>...</td>\n",
              "    </tr>\n",
              "    <tr>\n",
              "      <th>614</th>\n",
              "      <td>21919</td>\n",
              "      <td>Earleville</td>\n",
              "      <td>Cecil</td>\n",
              "      <td>View Map</td>\n",
              "    </tr>\n",
              "    <tr>\n",
              "      <th>615</th>\n",
              "      <td>21920</td>\n",
              "      <td>Elk Mills</td>\n",
              "      <td>Cecil</td>\n",
              "      <td>View Map</td>\n",
              "    </tr>\n",
              "    <tr>\n",
              "      <th>616</th>\n",
              "      <td>21921</td>\n",
              "      <td>Elkton</td>\n",
              "      <td>Cecil</td>\n",
              "      <td>View Map</td>\n",
              "    </tr>\n",
              "    <tr>\n",
              "      <th>617</th>\n",
              "      <td>21922</td>\n",
              "      <td>Elkton</td>\n",
              "      <td>Cecil</td>\n",
              "      <td>View Map</td>\n",
              "    </tr>\n",
              "    <tr>\n",
              "      <th>618</th>\n",
              "      <td>21930</td>\n",
              "      <td>Georgetown</td>\n",
              "      <td>Cecil</td>\n",
              "      <td>View Map</td>\n",
              "    </tr>\n",
              "  </tbody>\n",
              "</table>\n",
              "<p>619 rows × 4 columns</p>\n",
              "</div>"
            ],
            "text/plain": [
              "    Zip Code        City       County Zip Code Map\n",
              "0      20601     Waldorf      Charles     View Map\n",
              "1      20602     Waldorf      Charles     View Map\n",
              "2      20603     Waldorf      Charles     View Map\n",
              "3      20604     Waldorf      Charles     View Map\n",
              "4      20606       Abell  Saint Marys     View Map\n",
              "..       ...         ...          ...          ...\n",
              "614    21919  Earleville        Cecil     View Map\n",
              "615    21920   Elk Mills        Cecil     View Map\n",
              "616    21921      Elkton        Cecil     View Map\n",
              "617    21922      Elkton        Cecil     View Map\n",
              "618    21930  Georgetown        Cecil     View Map\n",
              "\n",
              "[619 rows x 4 columns]"
            ]
          },
          "metadata": {
            "tags": []
          },
          "execution_count": 7
        }
      ]
    },
    {
      "cell_type": "code",
      "metadata": {
        "id": "GHrlcw0ZjPx-"
      },
      "source": [
        "df.to_csv(\"zipcodes.csv\", index = False, sep = \";\")"
      ],
      "execution_count": null,
      "outputs": []
    }
  ]
}